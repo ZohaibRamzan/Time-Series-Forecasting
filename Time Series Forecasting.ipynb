{
 "cells": [
  {
   "cell_type": "markdown",
   "metadata": {},
   "source": [
    "## Time Series Forecasting For Energy Consumption using Pandas and sklearn"
   ]
  },
  {
   "cell_type": "code",
   "execution_count": 46,
   "metadata": {},
   "outputs": [],
   "source": [
    "import pandas as pd\n",
    "import sklearn\n",
    "import sklearn.metrics as metrics\n",
    "from sklearn.model_selection import TimeSeriesSplit\n",
    "from sklearn.linear_model import LinearRegression\n",
    "from sklearn.neural_network import MLPRegressor\n",
    "from sklearn.neighbors import KNeighborsRegressor\n",
    "from sklearn.ensemble import RandomForestRegressor\n",
    "from sklearn.svm import SVR\n",
    "from sklearn.model_selection import cross_val_score\n",
    "import matplotlib.pyplot as plt\n",
    "from sklearn.model_selection import GridSearchCV\n",
    "import numpy as np\n",
    "\n"
   ]
  },
  {
   "cell_type": "code",
   "execution_count": 18,
   "metadata": {},
   "outputs": [],
   "source": [
    "url='https://raw.githubusercontent.com/jenfly/opsd/master/opsd_germany_daily.csv'\n",
    "data = pd.read_csv(url,sep=\",\")"
   ]
  },
  {
   "cell_type": "code",
   "execution_count": 19,
   "metadata": {},
   "outputs": [
    {
     "data": {
      "text/plain": [
       "<bound method NDFrame.head of             Date  Consumption     Wind   Solar  Wind+Solar\n",
       "0     2006-01-01   1069.18400      NaN     NaN         NaN\n",
       "1     2006-01-02   1380.52100      NaN     NaN         NaN\n",
       "2     2006-01-03   1442.53300      NaN     NaN         NaN\n",
       "3     2006-01-04   1457.21700      NaN     NaN         NaN\n",
       "4     2006-01-05   1477.13100      NaN     NaN         NaN\n",
       "...          ...          ...      ...     ...         ...\n",
       "4378  2017-12-27   1263.94091  394.507  16.530     411.037\n",
       "4379  2017-12-28   1299.86398  506.424  14.162     520.586\n",
       "4380  2017-12-29   1295.08753  584.277  29.854     614.131\n",
       "4381  2017-12-30   1215.44897  721.247   7.467     728.714\n",
       "4382  2017-12-31   1107.11488  721.176  19.980     741.156\n",
       "\n",
       "[4383 rows x 5 columns]>"
      ]
     },
     "execution_count": 19,
     "metadata": {},
     "output_type": "execute_result"
    }
   ],
   "source": [
    "data.head"
   ]
  },
  {
   "cell_type": "code",
   "execution_count": 20,
   "metadata": {},
   "outputs": [
    {
     "data": {
      "text/plain": [
       "Date            object\n",
       "Consumption    float64\n",
       "Wind           float64\n",
       "Solar          float64\n",
       "Wind+Solar     float64\n",
       "dtype: object"
      ]
     },
     "execution_count": 20,
     "metadata": {},
     "output_type": "execute_result"
    }
   ],
   "source": [
    "data.dtypes"
   ]
  },
  {
   "cell_type": "markdown",
   "metadata": {},
   "source": [
    "## Lets change the type of Date Column to datatime format"
   ]
  },
  {
   "cell_type": "code",
   "execution_count": 21,
   "metadata": {},
   "outputs": [
    {
     "data": {
      "text/plain": [
       "<bound method NDFrame.head of             Consumption     Wind   Solar  Wind+Solar\n",
       "Date                                                \n",
       "2006-01-01   1069.18400      NaN     NaN         NaN\n",
       "2006-01-02   1380.52100      NaN     NaN         NaN\n",
       "2006-01-03   1442.53300      NaN     NaN         NaN\n",
       "2006-01-04   1457.21700      NaN     NaN         NaN\n",
       "2006-01-05   1477.13100      NaN     NaN         NaN\n",
       "...                 ...      ...     ...         ...\n",
       "2017-12-27   1263.94091  394.507  16.530     411.037\n",
       "2017-12-28   1299.86398  506.424  14.162     520.586\n",
       "2017-12-29   1295.08753  584.277  29.854     614.131\n",
       "2017-12-30   1215.44897  721.247   7.467     728.714\n",
       "2017-12-31   1107.11488  721.176  19.980     741.156\n",
       "\n",
       "[4383 rows x 4 columns]>"
      ]
     },
     "execution_count": 21,
     "metadata": {},
     "output_type": "execute_result"
    }
   ],
   "source": [
    "data['Date']=pd.to_datetime(data['Date'])\n",
    "#data[0:5]\n",
    "data=data.set_index('Date')\n",
    "data.head"
   ]
  },
  {
   "cell_type": "markdown",
   "metadata": {},
   "source": [
    "# Modeling\n",
    "Our Aim is to predict the power consumption for this time series data for coming unseen dates. We will be using 2006-2016 data for training and 2017 data for testing. In order to evaluate how good our model is, we would be using R-squared and Root Mean Squared Error (but will be printing all relevant metrics for you to take the final call)."
   ]
  },
  {
   "cell_type": "code",
   "execution_count": 22,
   "metadata": {},
   "outputs": [],
   "source": [
    "def regression_results(y_true, y_pred):\n",
    "    # Regression metrics\n",
    "    explained_variance=metrics.explained_variance_score(y_true, y_pred)\n",
    "    mean_absolute_error=metrics.mean_absolute_error(y_true, y_pred) \n",
    "    mse=metrics.mean_squared_error(y_true, y_pred) \n",
    "    mean_squared_log_error=metrics.mean_squared_log_error(y_true, y_pred)\n",
    "    median_absolute_error=metrics.median_absolute_error(y_true, y_pred)\n",
    "    r2=metrics.r2_score(y_true, y_pred)\n",
    "    print('explained_variance: ', round(explained_variance,4))    \n",
    "    print('mean_squared_log_error: ', round(mean_squared_log_error,4))\n",
    "    print('r2: ', round(r2,4))\n",
    "    print('MAE: ', round(mean_absolute_error,4))\n",
    "    print('MSE: ', round(mse,4))\n",
    "    print('RMSE: ', round(np.sqrt(mse),4))"
   ]
  },
  {
   "cell_type": "markdown",
   "metadata": {},
   "source": [
    "# Feature Engineeringfor time series"
   ]
  },
  {
   "cell_type": "code",
   "execution_count": 23,
   "metadata": {},
   "outputs": [],
   "source": [
    "data_consumption=data[['Consumption']]"
   ]
  },
  {
   "cell_type": "code",
   "execution_count": 24,
   "metadata": {},
   "outputs": [
    {
     "name": "stderr",
     "output_type": "stream",
     "text": [
      "C:\\Users\\zohai\\anaconda3\\lib\\site-packages\\pandas\\core\\indexing.py:844: SettingWithCopyWarning: \n",
      "A value is trying to be set on a copy of a slice from a DataFrame.\n",
      "Try using .loc[row_indexer,col_indexer] = value instead\n",
      "\n",
      "See the caveats in the documentation: https://pandas.pydata.org/pandas-docs/stable/user_guide/indexing.html#returning-a-view-versus-a-copy\n",
      "  self.obj[key] = _infer_fill_value(value)\n",
      "C:\\Users\\zohai\\anaconda3\\lib\\site-packages\\pandas\\core\\indexing.py:1047: SettingWithCopyWarning: \n",
      "A value is trying to be set on a copy of a slice from a DataFrame.\n",
      "Try using .loc[row_indexer,col_indexer] = value instead\n",
      "\n",
      "See the caveats in the documentation: https://pandas.pydata.org/pandas-docs/stable/user_guide/indexing.html#returning-a-view-versus-a-copy\n",
      "  self.obj[item_labels[indexer[info_axis]]] = value\n"
     ]
    },
    {
     "data": {
      "text/plain": [
       "<bound method NDFrame.head of             Consumption   Yesterday\n",
       "Date                               \n",
       "2006-01-01   1069.18400         NaN\n",
       "2006-01-02   1380.52100  1069.18400\n",
       "2006-01-03   1442.53300  1380.52100\n",
       "2006-01-04   1457.21700  1442.53300\n",
       "2006-01-05   1477.13100  1457.21700\n",
       "...                 ...         ...\n",
       "2017-12-27   1263.94091  1130.11683\n",
       "2017-12-28   1299.86398  1263.94091\n",
       "2017-12-29   1295.08753  1299.86398\n",
       "2017-12-30   1215.44897  1295.08753\n",
       "2017-12-31   1107.11488  1215.44897\n",
       "\n",
       "[4383 rows x 2 columns]>"
      ]
     },
     "execution_count": 24,
     "metadata": {},
     "output_type": "execute_result"
    }
   ],
   "source": [
    "data_consumption.loc[:,'Yesterday']=data_consumption.loc[:,'Consumption'].shift()#   dataframe.loc[:,'Column_name'], Ist value indicates the row index value(id : used it means all indexes, 2nd value shows column)\n",
    "data_consumption.head"
   ]
  },
  {
   "cell_type": "code",
   "execution_count": 25,
   "metadata": {},
   "outputs": [
    {
     "name": "stderr",
     "output_type": "stream",
     "text": [
      "C:\\Users\\zohai\\anaconda3\\lib\\site-packages\\pandas\\core\\indexing.py:844: SettingWithCopyWarning: \n",
      "A value is trying to be set on a copy of a slice from a DataFrame.\n",
      "Try using .loc[row_indexer,col_indexer] = value instead\n",
      "\n",
      "See the caveats in the documentation: https://pandas.pydata.org/pandas-docs/stable/user_guide/indexing.html#returning-a-view-versus-a-copy\n",
      "  self.obj[key] = _infer_fill_value(value)\n",
      "C:\\Users\\zohai\\anaconda3\\lib\\site-packages\\pandas\\core\\indexing.py:1047: SettingWithCopyWarning: \n",
      "A value is trying to be set on a copy of a slice from a DataFrame.\n",
      "Try using .loc[row_indexer,col_indexer] = value instead\n",
      "\n",
      "See the caveats in the documentation: https://pandas.pydata.org/pandas-docs/stable/user_guide/indexing.html#returning-a-view-versus-a-copy\n",
      "  self.obj[item_labels[indexer[info_axis]]] = value\n"
     ]
    },
    {
     "data": {
      "text/html": [
       "<div>\n",
       "<style scoped>\n",
       "    .dataframe tbody tr th:only-of-type {\n",
       "        vertical-align: middle;\n",
       "    }\n",
       "\n",
       "    .dataframe tbody tr th {\n",
       "        vertical-align: top;\n",
       "    }\n",
       "\n",
       "    .dataframe thead th {\n",
       "        text-align: right;\n",
       "    }\n",
       "</style>\n",
       "<table border=\"1\" class=\"dataframe\">\n",
       "  <thead>\n",
       "    <tr style=\"text-align: right;\">\n",
       "      <th></th>\n",
       "      <th>Consumption</th>\n",
       "      <th>Yesterday</th>\n",
       "      <th>Yesterday_Diff</th>\n",
       "    </tr>\n",
       "    <tr>\n",
       "      <th>Date</th>\n",
       "      <th></th>\n",
       "      <th></th>\n",
       "      <th></th>\n",
       "    </tr>\n",
       "  </thead>\n",
       "  <tbody>\n",
       "    <tr>\n",
       "      <th>2006-01-01</th>\n",
       "      <td>1069.184</td>\n",
       "      <td>NaN</td>\n",
       "      <td>NaN</td>\n",
       "    </tr>\n",
       "    <tr>\n",
       "      <th>2006-01-02</th>\n",
       "      <td>1380.521</td>\n",
       "      <td>1069.184</td>\n",
       "      <td>NaN</td>\n",
       "    </tr>\n",
       "    <tr>\n",
       "      <th>2006-01-03</th>\n",
       "      <td>1442.533</td>\n",
       "      <td>1380.521</td>\n",
       "      <td>311.337</td>\n",
       "    </tr>\n",
       "    <tr>\n",
       "      <th>2006-01-04</th>\n",
       "      <td>1457.217</td>\n",
       "      <td>1442.533</td>\n",
       "      <td>62.012</td>\n",
       "    </tr>\n",
       "    <tr>\n",
       "      <th>2006-01-05</th>\n",
       "      <td>1477.131</td>\n",
       "      <td>1457.217</td>\n",
       "      <td>14.684</td>\n",
       "    </tr>\n",
       "    <tr>\n",
       "      <th>2006-01-06</th>\n",
       "      <td>1403.427</td>\n",
       "      <td>1477.131</td>\n",
       "      <td>19.914</td>\n",
       "    </tr>\n",
       "    <tr>\n",
       "      <th>2006-01-07</th>\n",
       "      <td>1300.287</td>\n",
       "      <td>1403.427</td>\n",
       "      <td>-73.704</td>\n",
       "    </tr>\n",
       "    <tr>\n",
       "      <th>2006-01-08</th>\n",
       "      <td>1207.985</td>\n",
       "      <td>1300.287</td>\n",
       "      <td>-103.140</td>\n",
       "    </tr>\n",
       "    <tr>\n",
       "      <th>2006-01-09</th>\n",
       "      <td>1529.323</td>\n",
       "      <td>1207.985</td>\n",
       "      <td>-92.302</td>\n",
       "    </tr>\n",
       "    <tr>\n",
       "      <th>2006-01-10</th>\n",
       "      <td>1576.911</td>\n",
       "      <td>1529.323</td>\n",
       "      <td>321.338</td>\n",
       "    </tr>\n",
       "  </tbody>\n",
       "</table>\n",
       "</div>"
      ],
      "text/plain": [
       "            Consumption  Yesterday  Yesterday_Diff\n",
       "Date                                              \n",
       "2006-01-01     1069.184        NaN             NaN\n",
       "2006-01-02     1380.521   1069.184             NaN\n",
       "2006-01-03     1442.533   1380.521         311.337\n",
       "2006-01-04     1457.217   1442.533          62.012\n",
       "2006-01-05     1477.131   1457.217          14.684\n",
       "2006-01-06     1403.427   1477.131          19.914\n",
       "2006-01-07     1300.287   1403.427         -73.704\n",
       "2006-01-08     1207.985   1300.287        -103.140\n",
       "2006-01-09     1529.323   1207.985         -92.302\n",
       "2006-01-10     1576.911   1529.323         321.338"
      ]
     },
     "execution_count": 25,
     "metadata": {},
     "output_type": "execute_result"
    }
   ],
   "source": [
    "# inserting another column with difference between yesterday and day before yesterday's consumption values.\n",
    "data_consumption.loc[:,'Yesterday_Diff'] = data_consumption.loc[:,'Yesterday'].diff()\n",
    "data_consumption[0:10]"
   ]
  },
  {
   "cell_type": "markdown",
   "metadata": {},
   "source": [
    "## Droping Null values"
   ]
  },
  {
   "cell_type": "code",
   "execution_count": 26,
   "metadata": {},
   "outputs": [],
   "source": [
    "# dropping NAs\n",
    "data_consumption = data_consumption.dropna()"
   ]
  },
  {
   "cell_type": "code",
   "execution_count": 27,
   "metadata": {},
   "outputs": [
    {
     "data": {
      "text/html": [
       "<div>\n",
       "<style scoped>\n",
       "    .dataframe tbody tr th:only-of-type {\n",
       "        vertical-align: middle;\n",
       "    }\n",
       "\n",
       "    .dataframe tbody tr th {\n",
       "        vertical-align: top;\n",
       "    }\n",
       "\n",
       "    .dataframe thead th {\n",
       "        text-align: right;\n",
       "    }\n",
       "</style>\n",
       "<table border=\"1\" class=\"dataframe\">\n",
       "  <thead>\n",
       "    <tr style=\"text-align: right;\">\n",
       "      <th></th>\n",
       "      <th>Consumption</th>\n",
       "      <th>Yesterday</th>\n",
       "      <th>Yesterday_Diff</th>\n",
       "    </tr>\n",
       "    <tr>\n",
       "      <th>Date</th>\n",
       "      <th></th>\n",
       "      <th></th>\n",
       "      <th></th>\n",
       "    </tr>\n",
       "  </thead>\n",
       "  <tbody>\n",
       "    <tr>\n",
       "      <th>2016-01-01</th>\n",
       "      <td>1060.366</td>\n",
       "      <td>1158.103</td>\n",
       "      <td>-80.760</td>\n",
       "    </tr>\n",
       "    <tr>\n",
       "      <th>2016-01-02</th>\n",
       "      <td>1192.698</td>\n",
       "      <td>1060.366</td>\n",
       "      <td>-97.737</td>\n",
       "    </tr>\n",
       "    <tr>\n",
       "      <th>2016-01-03</th>\n",
       "      <td>1179.282</td>\n",
       "      <td>1192.698</td>\n",
       "      <td>132.332</td>\n",
       "    </tr>\n",
       "    <tr>\n",
       "      <th>2016-01-04</th>\n",
       "      <td>1456.294</td>\n",
       "      <td>1179.282</td>\n",
       "      <td>-13.416</td>\n",
       "    </tr>\n",
       "    <tr>\n",
       "      <th>2016-01-05</th>\n",
       "      <td>1506.737</td>\n",
       "      <td>1456.294</td>\n",
       "      <td>277.012</td>\n",
       "    </tr>\n",
       "    <tr>\n",
       "      <th>...</th>\n",
       "      <td>...</td>\n",
       "      <td>...</td>\n",
       "      <td>...</td>\n",
       "    </tr>\n",
       "    <tr>\n",
       "      <th>2016-12-27</th>\n",
       "      <td>1289.324</td>\n",
       "      <td>1121.213</td>\n",
       "      <td>3.540</td>\n",
       "    </tr>\n",
       "    <tr>\n",
       "      <th>2016-12-28</th>\n",
       "      <td>1294.881</td>\n",
       "      <td>1289.324</td>\n",
       "      <td>168.111</td>\n",
       "    </tr>\n",
       "    <tr>\n",
       "      <th>2016-12-29</th>\n",
       "      <td>1295.897</td>\n",
       "      <td>1294.881</td>\n",
       "      <td>5.557</td>\n",
       "    </tr>\n",
       "    <tr>\n",
       "      <th>2016-12-30</th>\n",
       "      <td>1291.044</td>\n",
       "      <td>1295.897</td>\n",
       "      <td>1.016</td>\n",
       "    </tr>\n",
       "    <tr>\n",
       "      <th>2016-12-31</th>\n",
       "      <td>1212.568</td>\n",
       "      <td>1291.044</td>\n",
       "      <td>-4.853</td>\n",
       "    </tr>\n",
       "  </tbody>\n",
       "</table>\n",
       "<p>366 rows × 3 columns</p>\n",
       "</div>"
      ],
      "text/plain": [
       "            Consumption  Yesterday  Yesterday_Diff\n",
       "Date                                              \n",
       "2016-01-01     1060.366   1158.103         -80.760\n",
       "2016-01-02     1192.698   1060.366         -97.737\n",
       "2016-01-03     1179.282   1192.698         132.332\n",
       "2016-01-04     1456.294   1179.282         -13.416\n",
       "2016-01-05     1506.737   1456.294         277.012\n",
       "...                 ...        ...             ...\n",
       "2016-12-27     1289.324   1121.213           3.540\n",
       "2016-12-28     1294.881   1289.324         168.111\n",
       "2016-12-29     1295.897   1294.881           5.557\n",
       "2016-12-30     1291.044   1295.897           1.016\n",
       "2016-12-31     1212.568   1291.044          -4.853\n",
       "\n",
       "[366 rows x 3 columns]"
      ]
     },
     "execution_count": 27,
     "metadata": {},
     "output_type": "execute_result"
    }
   ],
   "source": [
    "data_consumption['2016']"
   ]
  },
  {
   "cell_type": "markdown",
   "metadata": {},
   "source": [
    "## Define Training and Test Datasets\n",
    "Setting 2006-2016 as Training data\n",
    "Seeting 2017 as Test Data"
   ]
  },
  {
   "cell_type": "code",
   "execution_count": 28,
   "metadata": {},
   "outputs": [],
   "source": [
    "X_train=data_consumption[:'2016'].drop('Consumption', axis=1)\n",
    "y_train=data_consumption.loc[:'2016', 'Consumption']"
   ]
  },
  {
   "cell_type": "code",
   "execution_count": 29,
   "metadata": {},
   "outputs": [],
   "source": [
    "X_test=data_consumption['2017'].drop('Consumption', axis=1)\n",
    "y_test=data_consumption.loc['2017','Consumption']"
   ]
  },
  {
   "cell_type": "markdown",
   "metadata": {},
   "source": [
    "## Cross-Validation for time series data\n",
    "Since time serties data has natural ordering, means every instance can be related to previous instance with some relation. Therefor random splitting for cross validation like in K-fold will break the dependence among the instances. Therefore we use another cross validation technique called Forward chaining for time series data.\n",
    "\n",
    "sklearn has a provision for implementing such train test split using TimeSeriesSplit.\n",
    "The TimeSerieSplit function takes as input the number of splits. Since our training data has 11 unique years (2006 -2016), we would be setting n_splits = 10. This way we have neat training and validation sets:\n",
    "\n",
    "fold 1: training [2006], validation [2007]\n",
    "\n",
    "fold 2: training [2006 2007], validation [2008]\n",
    "\n",
    "fold 3: training [2006 2007 2008], validation [2009]\n",
    "\n",
    "fold 4: training [2006 2007 2008 2009], validation [2010]\n",
    "\n",
    "fold 5: training [2006 2007 2008 2009 2010], validation [2011]\n",
    "\n",
    "fold 6: training [2006 2007 2008 2009 2010 2011], validation [2012]\n",
    "\n",
    "fold 7: training [2006 2007 2008 2009 2010 2011 2012], validation [2013]\n",
    "\n",
    "fold 8: training [2006 2007 2008 2009 2010 2011 2012 2013], validation [2014]\n",
    "\n",
    "fold 9: training [2006 2007 2008 2009 2010 2011 2012 2013 2014], validation [2015]\n",
    "\n",
    "fold 10: training [2006 2007 2008 2009 2010 2011 2012 2013 2014 2015], validation [2016]"
   ]
  },
  {
   "cell_type": "markdown",
   "metadata": {},
   "source": [
    "## Algorithms"
   ]
  },
  {
   "cell_type": "code",
   "execution_count": 30,
   "metadata": {},
   "outputs": [
    {
     "name": "stdout",
     "output_type": "stream",
     "text": [
      "LR: 0.343747 (0.029773)\n",
      "KNN: 0.646307 (0.083185)\n",
      "RF: 0.614037 (0.079610)\n",
      "SVR: -0.117944 (0.157755)\n"
     ]
    }
   ],
   "source": [
    "models = []\n",
    "models.append(('LR', LinearRegression()))\n",
    "models.append(('KNN', KNeighborsRegressor())) \n",
    "models.append(('RF', RandomForestRegressor(n_estimators = 10))) # Ensemble method - collection of many decision trees\n",
    "models.append(('SVR', SVR(gamma='auto'))) # kernel = linear\n",
    "# Evaluate each model in turn\n",
    "results = []\n",
    "names = []\n",
    "for name, model in models:\n",
    "    # TimeSeries Cross validation\n",
    "    tscv = TimeSeriesSplit(n_splits=10)\n",
    "    \n",
    "    cv_results = cross_val_score(model, X_train, y_train, cv=tscv, scoring='r2')\n",
    "    results.append(cv_results)\n",
    "    names.append(name)\n",
    "    print('%s: %f (%f)' % (name, cv_results.mean(), cv_results.std()))\n",
    "    \n"
   ]
  },
  {
   "cell_type": "code",
   "execution_count": 31,
   "metadata": {},
   "outputs": [
    {
     "data": {
      "image/png": "[encoded data removed]",
      "text/plain": [
       "<Figure size 432x288 with 1 Axes>"
      ]
     },
     "metadata": {
      "needs_background": "light"
     },
     "output_type": "display_data"
    }
   ],
   "source": [
    "# Compare Algorithms\n",
    "plt.boxplot(results, labels=names)\n",
    "plt.title('Algorithm Comparison')\n",
    "plt.show()"
   ]
  },
  {
   "cell_type": "markdown",
   "metadata": {},
   "source": [
    "Both KNN and RF perform equally well. But I personally prefer RF since this ensemble model (combine multiple ‘individual’ (diverse) models together and deliver superior prediction power.) can almost work out of the box and that is one reason why they are very popular."
   ]
  },
  {
   "cell_type": "markdown",
   "metadata": {},
   "source": [
    "## Grid Searching Hyperparameters for Random Forest Regressor\n",
    "Lets try to tune the hyperparameters of random forest classifier to achhieve better results. "
   ]
  },
  {
   "cell_type": "code",
   "execution_count": 35,
   "metadata": {},
   "outputs": [
    {
     "data": {
      "text/plain": [
       "dict_keys(['explained_variance', 'r2', 'max_error', 'neg_median_absolute_error', 'neg_mean_absolute_error', 'neg_mean_squared_error', 'neg_mean_squared_log_error', 'neg_root_mean_squared_error', 'neg_mean_poisson_deviance', 'neg_mean_gamma_deviance', 'accuracy', 'roc_auc', 'roc_auc_ovr', 'roc_auc_ovo', 'roc_auc_ovr_weighted', 'roc_auc_ovo_weighted', 'balanced_accuracy', 'average_precision', 'neg_log_loss', 'neg_brier_score', 'adjusted_rand_score', 'homogeneity_score', 'completeness_score', 'v_measure_score', 'mutual_info_score', 'adjusted_mutual_info_score', 'normalized_mutual_info_score', 'fowlkes_mallows_score', 'precision', 'precision_macro', 'precision_micro', 'precision_samples', 'precision_weighted', 'recall', 'recall_macro', 'recall_micro', 'recall_samples', 'recall_weighted', 'f1', 'f1_macro', 'f1_micro', 'f1_samples', 'f1_weighted', 'jaccard', 'jaccard_macro', 'jaccard_micro', 'jaccard_samples', 'jaccard_weighted'])"
      ]
     },
     "execution_count": 35,
     "metadata": {},
     "output_type": "execute_result"
    }
   ],
   "source": [
    "sklearn.metrics.SCORERS.keys()"
   ]
  },
  {
   "cell_type": "code",
   "execution_count": 37,
   "metadata": {},
   "outputs": [
    {
     "data": {
      "text/plain": [
       "GridSearchCV(cv=TimeSeriesSplit(max_train_size=None, n_splits=10),\n",
       "             error_score=nan,\n",
       "             estimator=RandomForestRegressor(bootstrap=True, ccp_alpha=0.0,\n",
       "                                             criterion='mse', max_depth=None,\n",
       "                                             max_features='auto',\n",
       "                                             max_leaf_nodes=None,\n",
       "                                             max_samples=None,\n",
       "                                             min_impurity_decrease=0.0,\n",
       "                                             min_impurity_split=None,\n",
       "                                             min_samples_leaf=1,\n",
       "                                             min_samples_split=2,\n",
       "                                             min_weight_fraction_leaf=0.0,\n",
       "                                             n_estimators=100, n_jobs=None,\n",
       "                                             oob_score=False, random_state=None,\n",
       "                                             verbose=0, warm_start=False),\n",
       "             iid='deprecated', n_jobs=None,\n",
       "             param_grid={'max_depth': [6, 12, 14],\n",
       "                         'max_features': ['auto', 'log2', 'sqrt'],\n",
       "                         'n_estimators': [10, 20, 45]},\n",
       "             pre_dispatch='2*n_jobs', refit=True, return_train_score=False,\n",
       "             scoring='r2', verbose=0)"
      ]
     },
     "execution_count": 37,
     "metadata": {},
     "output_type": "execute_result"
    }
   ],
   "source": [
    "tscv = TimeSeriesSplit(n_splits=10)\n",
    "Random_Reg=RandomForestRegressor()\n",
    "parameters_grid={'n_estimators':[10,20,45], 'max_features':['auto','log2','sqrt'], 'max_depth': [6,12,14]}\n",
    "Search=GridSearchCV(estimator=Random_Reg, param_grid=parameters_grid,cv= tscv, scoring = 'r2')\n",
    "Search.fit(X_train,y_train)"
   ]
  },
  {
   "cell_type": "code",
   "execution_count": 43,
   "metadata": {},
   "outputs": [
    {
     "name": "stdout",
     "output_type": "stream",
     "text": [
      "r2:  0.6702140263098165\n"
     ]
    }
   ],
   "source": [
    "best_score = Search.best_score_\n",
    "best_model = Search.best_estimator_\n",
    "print('r2: ', best_score)"
   ]
  },
  {
   "cell_type": "markdown",
   "metadata": {},
   "source": [
    "## Checking best model performance on test data"
   ]
  },
  {
   "cell_type": "code",
   "execution_count": 47,
   "metadata": {},
   "outputs": [
    {
     "name": "stdout",
     "output_type": "stream",
     "text": [
      "explained_variance:  0.7192\n",
      "mean_squared_log_error:  0.0043\n",
      "r2:  0.7174\n",
      "MAE:  56.5672\n",
      "MSE:  7653.6979\n",
      "RMSE:  87.4854\n"
     ]
    }
   ],
   "source": [
    "y_true=y_test.values\n",
    "y_predict=best_model.predict(X_test)\n",
    "regression_results(y_true, y_predict)"
   ]
  },
  {
   "cell_type": "code",
   "execution_count": 49,
   "metadata": {},
   "outputs": [
    {
     "name": "stderr",
     "output_type": "stream",
     "text": [
      "C:\\Users\\zohai\\anaconda3\\lib\\site-packages\\pandas\\core\\indexing.py:844: SettingWithCopyWarning: \n",
      "A value is trying to be set on a copy of a slice from a DataFrame.\n",
      "Try using .loc[row_indexer,col_indexer] = value instead\n",
      "\n",
      "See the caveats in the documentation: https://pandas.pydata.org/pandas-docs/stable/user_guide/indexing.html#returning-a-view-versus-a-copy\n",
      "  self.obj[key] = _infer_fill_value(value)\n",
      "C:\\Users\\zohai\\anaconda3\\lib\\site-packages\\pandas\\core\\indexing.py:1047: SettingWithCopyWarning: \n",
      "A value is trying to be set on a copy of a slice from a DataFrame.\n",
      "Try using .loc[row_indexer,col_indexer] = value instead\n",
      "\n",
      "See the caveats in the documentation: https://pandas.pydata.org/pandas-docs/stable/user_guide/indexing.html#returning-a-view-versus-a-copy\n",
      "  self.obj[item_labels[indexer[info_axis]]] = value\n"
     ]
    }
   ],
   "source": [
    "data_consumption.loc[:, 'Yesterday-1']=data_consumption.loc[:, 'Yesterday'].shift()"
   ]
  },
  {
   "cell_type": "code",
   "execution_count": 50,
   "metadata": {},
   "outputs": [
    {
     "data": {
      "text/html": [
       "<div>\n",
       "<style scoped>\n",
       "    .dataframe tbody tr th:only-of-type {\n",
       "        vertical-align: middle;\n",
       "    }\n",
       "\n",
       "    .dataframe tbody tr th {\n",
       "        vertical-align: top;\n",
       "    }\n",
       "\n",
       "    .dataframe thead th {\n",
       "        text-align: right;\n",
       "    }\n",
       "</style>\n",
       "<table border=\"1\" class=\"dataframe\">\n",
       "  <thead>\n",
       "    <tr style=\"text-align: right;\">\n",
       "      <th></th>\n",
       "      <th>Consumption</th>\n",
       "      <th>Yesterday</th>\n",
       "      <th>Yesterday_Diff</th>\n",
       "      <th>Yesterday-1</th>\n",
       "    </tr>\n",
       "    <tr>\n",
       "      <th>Date</th>\n",
       "      <th></th>\n",
       "      <th></th>\n",
       "      <th></th>\n",
       "      <th></th>\n",
       "    </tr>\n",
       "  </thead>\n",
       "  <tbody>\n",
       "    <tr>\n",
       "      <th>2006-01-03</th>\n",
       "      <td>1442.53300</td>\n",
       "      <td>1380.52100</td>\n",
       "      <td>311.33700</td>\n",
       "      <td>NaN</td>\n",
       "    </tr>\n",
       "    <tr>\n",
       "      <th>2006-01-04</th>\n",
       "      <td>1457.21700</td>\n",
       "      <td>1442.53300</td>\n",
       "      <td>62.01200</td>\n",
       "      <td>1380.52100</td>\n",
       "    </tr>\n",
       "    <tr>\n",
       "      <th>2006-01-05</th>\n",
       "      <td>1477.13100</td>\n",
       "      <td>1457.21700</td>\n",
       "      <td>14.68400</td>\n",
       "      <td>1442.53300</td>\n",
       "    </tr>\n",
       "    <tr>\n",
       "      <th>2006-01-06</th>\n",
       "      <td>1403.42700</td>\n",
       "      <td>1477.13100</td>\n",
       "      <td>19.91400</td>\n",
       "      <td>1457.21700</td>\n",
       "    </tr>\n",
       "    <tr>\n",
       "      <th>2006-01-07</th>\n",
       "      <td>1300.28700</td>\n",
       "      <td>1403.42700</td>\n",
       "      <td>-73.70400</td>\n",
       "      <td>1477.13100</td>\n",
       "    </tr>\n",
       "    <tr>\n",
       "      <th>...</th>\n",
       "      <td>...</td>\n",
       "      <td>...</td>\n",
       "      <td>...</td>\n",
       "      <td>...</td>\n",
       "    </tr>\n",
       "    <tr>\n",
       "      <th>2017-12-27</th>\n",
       "      <td>1263.94091</td>\n",
       "      <td>1130.11683</td>\n",
       "      <td>18.83345</td>\n",
       "      <td>1111.28338</td>\n",
       "    </tr>\n",
       "    <tr>\n",
       "      <th>2017-12-28</th>\n",
       "      <td>1299.86398</td>\n",
       "      <td>1263.94091</td>\n",
       "      <td>133.82408</td>\n",
       "      <td>1130.11683</td>\n",
       "    </tr>\n",
       "    <tr>\n",
       "      <th>2017-12-29</th>\n",
       "      <td>1295.08753</td>\n",
       "      <td>1299.86398</td>\n",
       "      <td>35.92307</td>\n",
       "      <td>1263.94091</td>\n",
       "    </tr>\n",
       "    <tr>\n",
       "      <th>2017-12-30</th>\n",
       "      <td>1215.44897</td>\n",
       "      <td>1295.08753</td>\n",
       "      <td>-4.77645</td>\n",
       "      <td>1299.86398</td>\n",
       "    </tr>\n",
       "    <tr>\n",
       "      <th>2017-12-31</th>\n",
       "      <td>1107.11488</td>\n",
       "      <td>1215.44897</td>\n",
       "      <td>-79.63856</td>\n",
       "      <td>1295.08753</td>\n",
       "    </tr>\n",
       "  </tbody>\n",
       "</table>\n",
       "<p>4381 rows × 4 columns</p>\n",
       "</div>"
      ],
      "text/plain": [
       "            Consumption   Yesterday  Yesterday_Diff  Yesterday-1\n",
       "Date                                                            \n",
       "2006-01-03   1442.53300  1380.52100       311.33700          NaN\n",
       "2006-01-04   1457.21700  1442.53300        62.01200   1380.52100\n",
       "2006-01-05   1477.13100  1457.21700        14.68400   1442.53300\n",
       "2006-01-06   1403.42700  1477.13100        19.91400   1457.21700\n",
       "2006-01-07   1300.28700  1403.42700       -73.70400   1477.13100\n",
       "...                 ...         ...             ...          ...\n",
       "2017-12-27   1263.94091  1130.11683        18.83345   1111.28338\n",
       "2017-12-28   1299.86398  1263.94091       133.82408   1130.11683\n",
       "2017-12-29   1295.08753  1299.86398        35.92307   1263.94091\n",
       "2017-12-30   1215.44897  1295.08753        -4.77645   1299.86398\n",
       "2017-12-31   1107.11488  1215.44897       -79.63856   1295.08753\n",
       "\n",
       "[4381 rows x 4 columns]"
      ]
     },
     "execution_count": 50,
     "metadata": {},
     "output_type": "execute_result"
    }
   ],
   "source": [
    "data_consumption"
   ]
  },
  {
   "cell_type": "code",
   "execution_count": 51,
   "metadata": {},
   "outputs": [
    {
     "name": "stderr",
     "output_type": "stream",
     "text": [
      "C:\\Users\\zohai\\anaconda3\\lib\\site-packages\\ipykernel_launcher.py:2: SettingWithCopyWarning: \n",
      "A value is trying to be set on a copy of a slice from a DataFrame.\n",
      "Try using .loc[row_indexer,col_indexer] = value instead\n",
      "\n",
      "See the caveats in the documentation: https://pandas.pydata.org/pandas-docs/stable/user_guide/indexing.html#returning-a-view-versus-a-copy\n",
      "  \n"
     ]
    }
   ],
   "source": [
    "# inserting column with difference in yesterday-1 and yesterday-2 values.\n",
    "data_consumption['Yesterday-1_Diff'] = data_consumption['Yesterday-1'].diff()"
   ]
  },
  {
   "cell_type": "code",
   "execution_count": 53,
   "metadata": {},
   "outputs": [],
   "source": [
    "# dropping NAs\n",
    "data_consumption= data_consumption.dropna()"
   ]
  },
  {
   "cell_type": "markdown",
   "metadata": {},
   "source": [
    "## Resetting the train and test set"
   ]
  },
  {
   "cell_type": "code",
   "execution_count": 54,
   "metadata": {},
   "outputs": [],
   "source": [
    "X_train= data_consumption[:'2016'].drop(['Consumption'], axis = 1)\n",
    "y_train= data_consumption.loc[:'2016', 'Consumption']\n",
    "X_test = data_consumption['2017'].drop(['Consumption'], axis = 1)\n",
    "y_test = data_consumption.loc['2017', 'Consumption']"
   ]
  },
  {
   "cell_type": "markdown",
   "metadata": {},
   "source": [
    "## Checking to see if the ‘best’ random forest using ‘new’ predictors performs better"
   ]
  },
  {
   "cell_type": "code",
   "execution_count": 55,
   "metadata": {},
   "outputs": [
    {
     "name": "stdout",
     "output_type": "stream",
     "text": [
      "explained_variance:  0.8427\n",
      "mean_squared_log_error:  0.0024\n",
      "r2:  0.8427\n",
      "MAE:  40.3477\n",
      "MSE:  4259.929\n",
      "RMSE:  65.2681\n"
     ]
    }
   ],
   "source": [
    "model = RandomForestRegressor()\n",
    "param_search = { \n",
    "    'n_estimators': [20, 50, 100],\n",
    "    'max_features': ['auto', 'sqrt', 'log2'],\n",
    "    'max_depth' : [i for i in range(5,15)]\n",
    "}\n",
    "tscv = TimeSeriesSplit(n_splits=10)\n",
    "gsearch = GridSearchCV(estimator=model, cv=tscv, param_grid=param_search, scoring = 'r2')\n",
    "gsearch.fit(X_train, y_train)\n",
    "best_score = gsearch.best_score_\n",
    "best_model = gsearch.best_estimator_\n",
    "y_true = y_test.values\n",
    "y_pred = best_model.predict(X_test)\n",
    "regression_results(y_true, y_pred)"
   ]
  },
  {
   "cell_type": "markdown",
   "metadata": {},
   "source": [
    "## Feature Engineering strikes back\n",
    "Let us see if adding the value of solar production is beneficial in some way to predicting electricity consumption."
   ]
  },
  {
   "cell_type": "code",
   "execution_count": 56,
   "metadata": {},
   "outputs": [],
   "source": [
    "data_consumption_solar = data_consumption.join(data[['Solar']])\n",
    "data_consumption_solar = data_consumption_solar.dropna()"
   ]
  },
  {
   "cell_type": "code",
   "execution_count": 57,
   "metadata": {},
   "outputs": [
    {
     "data": {
      "text/html": [
       "<div>\n",
       "<style scoped>\n",
       "    .dataframe tbody tr th:only-of-type {\n",
       "        vertical-align: middle;\n",
       "    }\n",
       "\n",
       "    .dataframe tbody tr th {\n",
       "        vertical-align: top;\n",
       "    }\n",
       "\n",
       "    .dataframe thead th {\n",
       "        text-align: right;\n",
       "    }\n",
       "</style>\n",
       "<table border=\"1\" class=\"dataframe\">\n",
       "  <thead>\n",
       "    <tr style=\"text-align: right;\">\n",
       "      <th></th>\n",
       "      <th>Consumption</th>\n",
       "      <th>Yesterday</th>\n",
       "      <th>Yesterday_Diff</th>\n",
       "      <th>Yesterday-1</th>\n",
       "      <th>Yesterday-1_Diff</th>\n",
       "      <th>Solar</th>\n",
       "    </tr>\n",
       "    <tr>\n",
       "      <th>Date</th>\n",
       "      <th></th>\n",
       "      <th></th>\n",
       "      <th></th>\n",
       "      <th></th>\n",
       "      <th></th>\n",
       "      <th></th>\n",
       "    </tr>\n",
       "  </thead>\n",
       "  <tbody>\n",
       "    <tr>\n",
       "      <th>2012-01-01</th>\n",
       "      <td>948.12800</td>\n",
       "      <td>1077.62500</td>\n",
       "      <td>-122.24100</td>\n",
       "      <td>1199.86600</td>\n",
       "      <td>-27.02200</td>\n",
       "      <td>6.587</td>\n",
       "    </tr>\n",
       "    <tr>\n",
       "      <th>2012-01-02</th>\n",
       "      <td>1269.58100</td>\n",
       "      <td>948.12800</td>\n",
       "      <td>-129.49700</td>\n",
       "      <td>1077.62500</td>\n",
       "      <td>-122.24100</td>\n",
       "      <td>6.574</td>\n",
       "    </tr>\n",
       "    <tr>\n",
       "      <th>2012-01-03</th>\n",
       "      <td>1334.74500</td>\n",
       "      <td>1269.58100</td>\n",
       "      <td>321.45300</td>\n",
       "      <td>948.12800</td>\n",
       "      <td>-129.49700</td>\n",
       "      <td>24.679</td>\n",
       "    </tr>\n",
       "    <tr>\n",
       "      <th>2012-01-04</th>\n",
       "      <td>1347.13600</td>\n",
       "      <td>1334.74500</td>\n",
       "      <td>65.16400</td>\n",
       "      <td>1269.58100</td>\n",
       "      <td>321.45300</td>\n",
       "      <td>14.681</td>\n",
       "    </tr>\n",
       "    <tr>\n",
       "      <th>2012-01-05</th>\n",
       "      <td>1376.65800</td>\n",
       "      <td>1347.13600</td>\n",
       "      <td>12.39100</td>\n",
       "      <td>1334.74500</td>\n",
       "      <td>65.16400</td>\n",
       "      <td>5.071</td>\n",
       "    </tr>\n",
       "    <tr>\n",
       "      <th>...</th>\n",
       "      <td>...</td>\n",
       "      <td>...</td>\n",
       "      <td>...</td>\n",
       "      <td>...</td>\n",
       "      <td>...</td>\n",
       "      <td>...</td>\n",
       "    </tr>\n",
       "    <tr>\n",
       "      <th>2017-12-27</th>\n",
       "      <td>1263.94091</td>\n",
       "      <td>1130.11683</td>\n",
       "      <td>18.83345</td>\n",
       "      <td>1111.28338</td>\n",
       "      <td>-30.47392</td>\n",
       "      <td>16.530</td>\n",
       "    </tr>\n",
       "    <tr>\n",
       "      <th>2017-12-28</th>\n",
       "      <td>1299.86398</td>\n",
       "      <td>1263.94091</td>\n",
       "      <td>133.82408</td>\n",
       "      <td>1130.11683</td>\n",
       "      <td>18.83345</td>\n",
       "      <td>14.162</td>\n",
       "    </tr>\n",
       "    <tr>\n",
       "      <th>2017-12-29</th>\n",
       "      <td>1295.08753</td>\n",
       "      <td>1299.86398</td>\n",
       "      <td>35.92307</td>\n",
       "      <td>1263.94091</td>\n",
       "      <td>133.82408</td>\n",
       "      <td>29.854</td>\n",
       "    </tr>\n",
       "    <tr>\n",
       "      <th>2017-12-30</th>\n",
       "      <td>1215.44897</td>\n",
       "      <td>1295.08753</td>\n",
       "      <td>-4.77645</td>\n",
       "      <td>1299.86398</td>\n",
       "      <td>35.92307</td>\n",
       "      <td>7.467</td>\n",
       "    </tr>\n",
       "    <tr>\n",
       "      <th>2017-12-31</th>\n",
       "      <td>1107.11488</td>\n",
       "      <td>1215.44897</td>\n",
       "      <td>-79.63856</td>\n",
       "      <td>1295.08753</td>\n",
       "      <td>-4.77645</td>\n",
       "      <td>19.980</td>\n",
       "    </tr>\n",
       "  </tbody>\n",
       "</table>\n",
       "<p>2188 rows × 6 columns</p>\n",
       "</div>"
      ],
      "text/plain": [
       "            Consumption   Yesterday  Yesterday_Diff  Yesterday-1  \\\n",
       "Date                                                               \n",
       "2012-01-01    948.12800  1077.62500      -122.24100   1199.86600   \n",
       "2012-01-02   1269.58100   948.12800      -129.49700   1077.62500   \n",
       "2012-01-03   1334.74500  1269.58100       321.45300    948.12800   \n",
       "2012-01-04   1347.13600  1334.74500        65.16400   1269.58100   \n",
       "2012-01-05   1376.65800  1347.13600        12.39100   1334.74500   \n",
       "...                 ...         ...             ...          ...   \n",
       "2017-12-27   1263.94091  1130.11683        18.83345   1111.28338   \n",
       "2017-12-28   1299.86398  1263.94091       133.82408   1130.11683   \n",
       "2017-12-29   1295.08753  1299.86398        35.92307   1263.94091   \n",
       "2017-12-30   1215.44897  1295.08753        -4.77645   1299.86398   \n",
       "2017-12-31   1107.11488  1215.44897       -79.63856   1295.08753   \n",
       "\n",
       "            Yesterday-1_Diff   Solar  \n",
       "Date                                  \n",
       "2012-01-01         -27.02200   6.587  \n",
       "2012-01-02        -122.24100   6.574  \n",
       "2012-01-03        -129.49700  24.679  \n",
       "2012-01-04         321.45300  14.681  \n",
       "2012-01-05          65.16400   5.071  \n",
       "...                      ...     ...  \n",
       "2017-12-27         -30.47392  16.530  \n",
       "2017-12-28          18.83345  14.162  \n",
       "2017-12-29         133.82408  29.854  \n",
       "2017-12-30          35.92307   7.467  \n",
       "2017-12-31          -4.77645  19.980  \n",
       "\n",
       "[2188 rows x 6 columns]"
      ]
     },
     "execution_count": 57,
     "metadata": {},
     "output_type": "execute_result"
    }
   ],
   "source": [
    "data_consumption_solar"
   ]
  },
  {
   "cell_type": "markdown",
   "metadata": {},
   "source": [
    "## Resetting Train/Test + GridSearch + Checking performance"
   ]
  },
  {
   "cell_type": "code",
   "execution_count": 60,
   "metadata": {},
   "outputs": [
    {
     "name": "stdout",
     "output_type": "stream",
     "text": [
      "explained_variance:  0.8414\n",
      "mean_squared_log_error:  0.0025\n",
      "r2:  0.841\n",
      "MAE:  39.8362\n",
      "MSE:  4306.7923\n",
      "RMSE:  65.6262\n"
     ]
    }
   ],
   "source": [
    "X_train = data_consumption_solar[:'2016'].drop(['Consumption'], axis = 1)\n",
    "y_train = data_consumption_solar.loc[:'2016', 'Consumption']\n",
    "X_test = data_consumption_solar['2017'].drop(['Consumption'], axis = 1)\n",
    "y_test = data_consumption_solar.loc['2017', 'Consumption']\n",
    "model = RandomForestRegressor()\n",
    "param_search = { \n",
    "    'n_estimators': [20, 50, 100],\n",
    "    'max_features': ['auto', 'sqrt', 'log2'],\n",
    "    'max_depth' : [i for i in range(5,15)]\n",
    "}\n",
    "tscv = TimeSeriesSplit(n_splits=10)\n",
    "gsearch = GridSearchCV(estimator=model, cv=tscv, param_grid=param_search, scoring = 'r2')\n",
    "gsearch.fit(X_train, y_train)\n",
    "best_score = gsearch.best_score_\n",
    "best_model = gsearch.best_estimator_\n",
    "y_true = y_test.values\n",
    "y_pred = best_model.predict(X_test)\n",
    "regression_results(y_true, y_pred)"
   ]
  },
  {
   "cell_type": "markdown",
   "metadata": {},
   "source": [
    "# Variable Importance Plot"
   ]
  },
  {
   "cell_type": "code",
   "execution_count": 62,
   "metadata": {},
   "outputs": [
    {
     "data": {
      "image/png": "[encoded data removed]",
      "text/plain": [
       "<Figure size 432x288 with 1 Axes>"
      ]
     },
     "metadata": {
      "needs_background": "light"
     },
     "output_type": "display_data"
    }
   ],
   "source": [
    "imp = best_model.feature_importances_\n",
    "features = X_train.columns\n",
    "indices = np.argsort(imp)\n",
    "plt.title('Feature Importances')\n",
    "plt.barh(range(len(indices)), imp[indices], color='b', align='center')\n",
    "plt.yticks(range(len(indices)), [features[i] for i in indices])\n",
    "plt.xlabel('Relative Importance')\n",
    "plt.show()"
   ]
  },
  {
   "cell_type": "markdown",
   "metadata": {},
   "source": [
    "# Feature Engineering Endgame\n",
    "If you followed the narrative in Part 1 of my previous blog post, you would remember that our dataset has some seasonal element to it, weekly seasonality to be more precise. Thus, it would make more sense to feed as input to the model, consumption value in the week prior to the given date. That means, if the model is trying to predict the consumption value on Jan 8, it must be fed information about the consumption on Jan 1."
   ]
  },
  {
   "cell_type": "code",
   "execution_count": 63,
   "metadata": {},
   "outputs": [],
   "source": [
    "data_consumption_solar_weeklyShift = data_consumption_solar.copy()\n",
    "data_consumption_solar_weeklyShift['Last_Week'] = data_consumption_solar['Consumption'].shift(7)\n",
    "data_consumption_solar_weeklyShift = data_consumption_solar_weeklyShift.dropna()"
   ]
  },
  {
   "cell_type": "code",
   "execution_count": 64,
   "metadata": {},
   "outputs": [
    {
     "data": {
      "text/html": [
       "<div>\n",
       "<style scoped>\n",
       "    .dataframe tbody tr th:only-of-type {\n",
       "        vertical-align: middle;\n",
       "    }\n",
       "\n",
       "    .dataframe tbody tr th {\n",
       "        vertical-align: top;\n",
       "    }\n",
       "\n",
       "    .dataframe thead th {\n",
       "        text-align: right;\n",
       "    }\n",
       "</style>\n",
       "<table border=\"1\" class=\"dataframe\">\n",
       "  <thead>\n",
       "    <tr style=\"text-align: right;\">\n",
       "      <th></th>\n",
       "      <th>Consumption</th>\n",
       "      <th>Yesterday</th>\n",
       "      <th>Yesterday_Diff</th>\n",
       "      <th>Yesterday-1</th>\n",
       "      <th>Yesterday-1_Diff</th>\n",
       "      <th>Solar</th>\n",
       "      <th>Last_Week</th>\n",
       "    </tr>\n",
       "    <tr>\n",
       "      <th>Date</th>\n",
       "      <th></th>\n",
       "      <th></th>\n",
       "      <th></th>\n",
       "      <th></th>\n",
       "      <th></th>\n",
       "      <th></th>\n",
       "      <th></th>\n",
       "    </tr>\n",
       "  </thead>\n",
       "  <tbody>\n",
       "    <tr>\n",
       "      <th>2012-01-08</th>\n",
       "      <td>1103.38300</td>\n",
       "      <td>1175.68800</td>\n",
       "      <td>-115.52700</td>\n",
       "      <td>1291.21500</td>\n",
       "      <td>-85.44300</td>\n",
       "      <td>8.440</td>\n",
       "      <td>948.12800</td>\n",
       "    </tr>\n",
       "    <tr>\n",
       "      <th>2012-01-09</th>\n",
       "      <td>1443.37100</td>\n",
       "      <td>1103.38300</td>\n",
       "      <td>-72.30500</td>\n",
       "      <td>1175.68800</td>\n",
       "      <td>-115.52700</td>\n",
       "      <td>5.264</td>\n",
       "      <td>1269.58100</td>\n",
       "    </tr>\n",
       "    <tr>\n",
       "      <th>2012-01-10</th>\n",
       "      <td>1434.63100</td>\n",
       "      <td>1443.37100</td>\n",
       "      <td>339.98800</td>\n",
       "      <td>1103.38300</td>\n",
       "      <td>-72.30500</td>\n",
       "      <td>17.827</td>\n",
       "      <td>1334.74500</td>\n",
       "    </tr>\n",
       "    <tr>\n",
       "      <th>2012-01-11</th>\n",
       "      <td>1449.76800</td>\n",
       "      <td>1434.63100</td>\n",
       "      <td>-8.74000</td>\n",
       "      <td>1443.37100</td>\n",
       "      <td>339.98800</td>\n",
       "      <td>10.849</td>\n",
       "      <td>1347.13600</td>\n",
       "    </tr>\n",
       "    <tr>\n",
       "      <th>2012-01-12</th>\n",
       "      <td>1442.44800</td>\n",
       "      <td>1449.76800</td>\n",
       "      <td>15.13700</td>\n",
       "      <td>1434.63100</td>\n",
       "      <td>-8.74000</td>\n",
       "      <td>18.023</td>\n",
       "      <td>1376.65800</td>\n",
       "    </tr>\n",
       "    <tr>\n",
       "      <th>...</th>\n",
       "      <td>...</td>\n",
       "      <td>...</td>\n",
       "      <td>...</td>\n",
       "      <td>...</td>\n",
       "      <td>...</td>\n",
       "      <td>...</td>\n",
       "      <td>...</td>\n",
       "    </tr>\n",
       "    <tr>\n",
       "      <th>2017-12-27</th>\n",
       "      <td>1263.94091</td>\n",
       "      <td>1130.11683</td>\n",
       "      <td>18.83345</td>\n",
       "      <td>1111.28338</td>\n",
       "      <td>-30.47392</td>\n",
       "      <td>16.530</td>\n",
       "      <td>1559.68569</td>\n",
       "    </tr>\n",
       "    <tr>\n",
       "      <th>2017-12-28</th>\n",
       "      <td>1299.86398</td>\n",
       "      <td>1263.94091</td>\n",
       "      <td>133.82408</td>\n",
       "      <td>1130.11683</td>\n",
       "      <td>18.83345</td>\n",
       "      <td>14.162</td>\n",
       "      <td>1520.37206</td>\n",
       "    </tr>\n",
       "    <tr>\n",
       "      <th>2017-12-29</th>\n",
       "      <td>1295.08753</td>\n",
       "      <td>1299.86398</td>\n",
       "      <td>35.92307</td>\n",
       "      <td>1263.94091</td>\n",
       "      <td>133.82408</td>\n",
       "      <td>29.854</td>\n",
       "      <td>1423.23782</td>\n",
       "    </tr>\n",
       "    <tr>\n",
       "      <th>2017-12-30</th>\n",
       "      <td>1215.44897</td>\n",
       "      <td>1295.08753</td>\n",
       "      <td>-4.77645</td>\n",
       "      <td>1299.86398</td>\n",
       "      <td>35.92307</td>\n",
       "      <td>7.467</td>\n",
       "      <td>1272.17085</td>\n",
       "    </tr>\n",
       "    <tr>\n",
       "      <th>2017-12-31</th>\n",
       "      <td>1107.11488</td>\n",
       "      <td>1215.44897</td>\n",
       "      <td>-79.63856</td>\n",
       "      <td>1295.08753</td>\n",
       "      <td>-4.77645</td>\n",
       "      <td>19.980</td>\n",
       "      <td>1141.75730</td>\n",
       "    </tr>\n",
       "  </tbody>\n",
       "</table>\n",
       "<p>2181 rows × 7 columns</p>\n",
       "</div>"
      ],
      "text/plain": [
       "            Consumption   Yesterday  Yesterday_Diff  Yesterday-1  \\\n",
       "Date                                                               \n",
       "2012-01-08   1103.38300  1175.68800      -115.52700   1291.21500   \n",
       "2012-01-09   1443.37100  1103.38300       -72.30500   1175.68800   \n",
       "2012-01-10   1434.63100  1443.37100       339.98800   1103.38300   \n",
       "2012-01-11   1449.76800  1434.63100        -8.74000   1443.37100   \n",
       "2012-01-12   1442.44800  1449.76800        15.13700   1434.63100   \n",
       "...                 ...         ...             ...          ...   \n",
       "2017-12-27   1263.94091  1130.11683        18.83345   1111.28338   \n",
       "2017-12-28   1299.86398  1263.94091       133.82408   1130.11683   \n",
       "2017-12-29   1295.08753  1299.86398        35.92307   1263.94091   \n",
       "2017-12-30   1215.44897  1295.08753        -4.77645   1299.86398   \n",
       "2017-12-31   1107.11488  1215.44897       -79.63856   1295.08753   \n",
       "\n",
       "            Yesterday-1_Diff   Solar   Last_Week  \n",
       "Date                                              \n",
       "2012-01-08         -85.44300   8.440   948.12800  \n",
       "2012-01-09        -115.52700   5.264  1269.58100  \n",
       "2012-01-10         -72.30500  17.827  1334.74500  \n",
       "2012-01-11         339.98800  10.849  1347.13600  \n",
       "2012-01-12          -8.74000  18.023  1376.65800  \n",
       "...                      ...     ...         ...  \n",
       "2017-12-27         -30.47392  16.530  1559.68569  \n",
       "2017-12-28          18.83345  14.162  1520.37206  \n",
       "2017-12-29         133.82408  29.854  1423.23782  \n",
       "2017-12-30          35.92307   7.467  1272.17085  \n",
       "2017-12-31          -4.77645  19.980  1141.75730  \n",
       "\n",
       "[2181 rows x 7 columns]"
      ]
     },
     "execution_count": 64,
     "metadata": {},
     "output_type": "execute_result"
    }
   ],
   "source": [
    "data_consumption_solar_weeklyShift"
   ]
  },
  {
   "cell_type": "code",
   "execution_count": 66,
   "metadata": {},
   "outputs": [
    {
     "name": "stdout",
     "output_type": "stream",
     "text": [
      "explained_variance:  0.8935\n",
      "mean_squared_log_error:  0.0017\n",
      "r2:  0.8931\n",
      "MAE:  31.7283\n",
      "MSE:  2895.4932\n",
      "RMSE:  53.8098\n"
     ]
    }
   ],
   "source": [
    "X_train_solar_weeklyShift = data_consumption_solar_weeklyShift[:'2016'].drop(['Consumption'], axis = 1)\n",
    "y_train_solar_weeklyShift = data_consumption_solar_weeklyShift.loc[:'2016', 'Consumption']\n",
    "X_test = data_consumption_solar_weeklyShift['2017'].drop(['Consumption'], axis = 1)\n",
    "y_test = data_consumption_solar_weeklyShift.loc['2017', 'Consumption']\n",
    "model = RandomForestRegressor()\n",
    "param_search = { \n",
    "    'n_estimators': [20, 50, 100],\n",
    "    'max_features': ['auto', 'sqrt', 'log2'],\n",
    "    'max_depth' : [i for i in range(5,15)]\n",
    "}\n",
    "tscv = TimeSeriesSplit(n_splits=10)\n",
    "gsearch = GridSearchCV(estimator=model, cv=tscv, param_grid=param_search, scoring = 'r2')\n",
    "gsearch.fit(X_train_solar_weeklyShift, y_train_solar_weeklyShift)\n",
    "best_score = gsearch.best_score_\n",
    "best_model = gsearch.best_estimator_\n",
    "y_true = y_test.values\n",
    "y_pred = best_model.predict(X_test)\n",
    "regression_results(y_true, y_pred)"
   ]
  },
  {
   "cell_type": "code",
   "execution_count": 69,
   "metadata": {},
   "outputs": [
    {
     "data": {
      "image/png": "[encoded data removed]",
      "text/plain": [
       "<Figure size 432x288 with 1 Axes>"
      ]
     },
     "metadata": {
      "needs_background": "light"
     },
     "output_type": "display_data"
    }
   ],
   "source": [
    "imp = best_model.feature_importances_\n",
    "features = X_train_solar_weeklyShift.columns\n",
    "indices = np.argsort(imp)\n",
    "plt.title('Feature Importances')\n",
    "plt.barh(range(len(indices)), imp[indices], color='b', align='center')\n",
    "plt.yticks(range(len(indices)), [features[i] for i in indices])\n",
    "plt.xlabel('Relative Importance')\n",
    "plt.show()"
   ]
  },
  {
   "cell_type": "markdown",
   "metadata": {},
   "source": [
    "## Conclusion\n",
    "In this article, we learned how to model time series data, conduct cross-validation on time series data, and fine-tune our model hyperparameters. We also successfully managed to reduce the RMSE from 85.61 to 54.57 for predicting power consumption."
   ]
  }
 ],
 "metadata": {
  "kernelspec": {
   "display_name": "Python 3",
   "language": "python",
   "name": "python3"
  },
  "language_info": {
   "codemirror_mode": {
    "name": "ipython",
    "version": 3
   },
   "file_extension": ".py",
   "mimetype": "text/x-python",
   "name": "python",
   "nbconvert_exporter": "python",
   "pygments_lexer": "ipython3",
   "version": "3.7.6"
  }
 },
 "nbformat": 4,
 "nbformat_minor": 4
}
